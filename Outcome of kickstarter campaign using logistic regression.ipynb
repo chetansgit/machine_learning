{
 "cells": [
  {
   "cell_type": "code",
   "execution_count": 2,
   "metadata": {},
   "outputs": [],
   "source": [
    "import pandas as pd\n",
    "import matplotlib.pyplot as plt\n",
    "import seaborn as sns\n",
    "\n",
    "%matplotlib inline\n",
    "\n",
    "from sklearn.model_selection import train_test_split\n",
    "from sklearn.linear_model import LogisticRegression\n",
    "from sklearn.metrics import confusion_matrix, classification_report"
   ]
  },
  {
   "cell_type": "code",
   "execution_count": 3,
   "metadata": {},
   "outputs": [],
   "source": [
    "df = pd.read_csv('./datasets/18k_projects.csv',low_memory=False)"
   ]
  },
  {
   "cell_type": "code",
   "execution_count": 5,
   "metadata": {},
   "outputs": [
    {
     "name": "stdout",
     "output_type": "stream",
     "text": [
      "<class 'pandas.core.frame.DataFrame'>\n",
      "RangeIndex: 18142 entries, 0 to 18141\n",
      "Data columns (total 35 columns):\n",
      " #   Column                          Non-Null Count  Dtype  \n",
      "---  ------                          --------------  -----  \n",
      " 0   Id                              18142 non-null  int64  \n",
      " 1   Name                            18142 non-null  object \n",
      " 2   Url                             18142 non-null  object \n",
      " 3   State                           18142 non-null  object \n",
      " 4   Currency                        18142 non-null  object \n",
      " 5   Top Category                    18142 non-null  object \n",
      " 6   Category                        18142 non-null  object \n",
      " 7   Creator                         18142 non-null  object \n",
      " 8   Location                        18142 non-null  object \n",
      " 9   Updates                         18142 non-null  int64  \n",
      " 10  Comments                        18142 non-null  int64  \n",
      " 11  Rewards                         18142 non-null  int64  \n",
      " 12  Goal                            18142 non-null  int64  \n",
      " 13  Pledged                         18142 non-null  int64  \n",
      " 14  Backers                         18142 non-null  int64  \n",
      " 15  Start                           18142 non-null  object \n",
      " 16  End                             18142 non-null  object \n",
      " 17  Duration in Days                18142 non-null  int64  \n",
      " 18  Facebook Connected              18142 non-null  object \n",
      " 19  Facebook Friends                12290 non-null  float64\n",
      " 20  Facebook Shares                 18142 non-null  int64  \n",
      " 21  Has Video                       18142 non-null  object \n",
      " 22  Latitude                        9803 non-null   float64\n",
      " 23  Longitude                       9803 non-null   float64\n",
      " 24  Start Timestamp (UTC)           18142 non-null  object \n",
      " 25  End Timestamp (UTC)             18142 non-null  object \n",
      " 26  Creator Bio                     18142 non-null  object \n",
      " 27  Creator Website                 11475 non-null  object \n",
      " 28  Creator - # Projects Created    18142 non-null  int64  \n",
      " 29  Creator - # Projects Backed     13898 non-null  float64\n",
      " 30  # Videos                        18041 non-null  float64\n",
      " 31  # Images                        18142 non-null  int64  \n",
      " 32  # Words (Description)           18142 non-null  int64  \n",
      " 33  # Words (Risks and Challenges)  18041 non-null  float64\n",
      " 34  # FAQs                          18142 non-null  int64  \n",
      "dtypes: float64(6), int64(13), object(16)\n",
      "memory usage: 4.8+ MB\n"
     ]
    }
   ],
   "source": [
    "df.info()"
   ]
  },
  {
   "cell_type": "code",
   "execution_count": 6,
   "metadata": {},
   "outputs": [],
   "source": [
    "del df['Id']\n",
    "del df['Name']\n",
    "del df['Url']\n",
    "del df['Location']\n",
    "del df['Pledged']\n",
    "del df['Creator']\n",
    "del df['Category']\n",
    "del df['Updates']\n",
    "del df['Start']\n",
    "del df['End']\n",
    "del df['Latitude']\n",
    "del df['Longitude']\n",
    "del df['Start Timestamp (UTC)']\n",
    "del df['End Timestamp (UTC)']\n",
    "del df['Creator Bio']\n",
    "del df['Creator Website']"
   ]
  },
  {
   "cell_type": "code",
   "execution_count": 8,
   "metadata": {},
   "outputs": [],
   "source": [
    "df = pd.get_dummies(df, columns=['State','Currency','Top Category','Facebook Connected','Has Video'])"
   ]
  },
  {
   "cell_type": "code",
   "execution_count": 9,
   "metadata": {},
   "outputs": [
    {
     "data": {
      "text/plain": [
       "(18142, 41)"
      ]
     },
     "execution_count": 9,
     "metadata": {},
     "output_type": "execute_result"
    }
   ],
   "source": [
    "df.shape"
   ]
  },
  {
   "cell_type": "code",
   "execution_count": 10,
   "metadata": {},
   "outputs": [
    {
     "data": {
      "text/plain": [
       "Comments                             0\n",
       "Rewards                              0\n",
       "Goal                                 0\n",
       "Backers                              0\n",
       "Duration in Days                     0\n",
       "Facebook Friends                  5852\n",
       "Facebook Shares                      0\n",
       "Creator - # Projects Created         0\n",
       "Creator - # Projects Backed       4244\n",
       "# Videos                           101\n",
       "# Images                             0\n",
       "# Words (Description)                0\n",
       "# Words (Risks and Challenges)     101\n",
       "# FAQs                               0\n",
       "State_failed                         0\n",
       "State_successful                     0\n",
       "Currency_AUD                         0\n",
       "Currency_CAD                         0\n",
       "Currency_EUR                         0\n",
       "Currency_GBP                         0\n",
       "Currency_NZD                         0\n",
       "Currency_USD                         0\n",
       "Top Category_Art                     0\n",
       "Top Category_Comics                  0\n",
       "Top Category_Crafts                  0\n",
       "Top Category_Dance                   0\n",
       "Top Category_Design                  0\n",
       "Top Category_Fashion                 0\n",
       "Top Category_Film & Video            0\n",
       "Top Category_Food                    0\n",
       "Top Category_Games                   0\n",
       "Top Category_Journalism              0\n",
       "Top Category_Music                   0\n",
       "Top Category_Photography             0\n",
       "Top Category_Publishing              0\n",
       "Top Category_Technology              0\n",
       "Top Category_Theater                 0\n",
       "Facebook Connected_No                0\n",
       "Facebook Connected_Yes               0\n",
       "Has Video_No                         0\n",
       "Has Video_Yes                        0\n",
       "dtype: int64"
      ]
     },
     "execution_count": 10,
     "metadata": {},
     "output_type": "execute_result"
    }
   ],
   "source": [
    "df.isnull().sum()"
   ]
  },
  {
   "cell_type": "code",
   "execution_count": 12,
   "metadata": {},
   "outputs": [
    {
     "data": {
      "text/plain": [
       "0.15954024784972817"
      ]
     },
     "execution_count": 12,
     "metadata": {},
     "output_type": "execute_result"
    }
   ],
   "source": [
    "df['State_successful'].corr(df['Facebook Friends'])"
   ]
  },
  {
   "cell_type": "code",
   "execution_count": 13,
   "metadata": {},
   "outputs": [
    {
     "data": {
      "text/plain": [
       "0.10624973985586757"
      ]
     },
     "execution_count": 13,
     "metadata": {},
     "output_type": "execute_result"
    }
   ],
   "source": [
    "df['State_successful'].corr(df['Creator - # Projects Backed'])"
   ]
  },
  {
   "cell_type": "code",
   "execution_count": 14,
   "metadata": {},
   "outputs": [
    {
     "data": {
      "text/plain": [
       "0.056579190784304276"
      ]
     },
     "execution_count": 14,
     "metadata": {},
     "output_type": "execute_result"
    }
   ],
   "source": [
    "df['State_successful'].corr(df['# Videos'])"
   ]
  },
  {
   "cell_type": "code",
   "execution_count": 15,
   "metadata": {},
   "outputs": [
    {
     "data": {
      "text/plain": [
       "0.007544860569767823"
      ]
     },
     "execution_count": 15,
     "metadata": {},
     "output_type": "execute_result"
    }
   ],
   "source": [
    "df['State_successful'].corr(df['# Words (Risks and Challenges)'])"
   ]
  },
  {
   "cell_type": "code",
   "execution_count": 16,
   "metadata": {},
   "outputs": [
    {
     "data": {
      "text/html": [
       "<div>\n",
       "<style scoped>\n",
       "    .dataframe tbody tr th:only-of-type {\n",
       "        vertical-align: middle;\n",
       "    }\n",
       "\n",
       "    .dataframe tbody tr th {\n",
       "        vertical-align: top;\n",
       "    }\n",
       "\n",
       "    .dataframe thead th {\n",
       "        text-align: right;\n",
       "    }\n",
       "</style>\n",
       "<table border=\"1\" class=\"dataframe\">\n",
       "  <thead>\n",
       "    <tr style=\"text-align: right;\">\n",
       "      <th></th>\n",
       "      <th>Comments</th>\n",
       "      <th>Rewards</th>\n",
       "      <th>Goal</th>\n",
       "      <th>Backers</th>\n",
       "      <th>Duration in Days</th>\n",
       "      <th>Facebook Friends</th>\n",
       "      <th>Facebook Shares</th>\n",
       "      <th>Creator - # Projects Created</th>\n",
       "      <th>Creator - # Projects Backed</th>\n",
       "      <th># Videos</th>\n",
       "      <th>...</th>\n",
       "      <th>Top Category_Journalism</th>\n",
       "      <th>Top Category_Music</th>\n",
       "      <th>Top Category_Photography</th>\n",
       "      <th>Top Category_Publishing</th>\n",
       "      <th>Top Category_Technology</th>\n",
       "      <th>Top Category_Theater</th>\n",
       "      <th>Facebook Connected_No</th>\n",
       "      <th>Facebook Connected_Yes</th>\n",
       "      <th>Has Video_No</th>\n",
       "      <th>Has Video_Yes</th>\n",
       "    </tr>\n",
       "  </thead>\n",
       "  <tbody>\n",
       "    <tr>\n",
       "      <th>count</th>\n",
       "      <td>18142.000000</td>\n",
       "      <td>18142.000000</td>\n",
       "      <td>1.814200e+04</td>\n",
       "      <td>18142.000000</td>\n",
       "      <td>18142.000000</td>\n",
       "      <td>12290.000000</td>\n",
       "      <td>18142.000000</td>\n",
       "      <td>18142.000000</td>\n",
       "      <td>13898.000000</td>\n",
       "      <td>18041.000000</td>\n",
       "      <td>...</td>\n",
       "      <td>18142.000000</td>\n",
       "      <td>18142.000000</td>\n",
       "      <td>18142.000000</td>\n",
       "      <td>18142.000000</td>\n",
       "      <td>18142.000000</td>\n",
       "      <td>18142.000000</td>\n",
       "      <td>18142.000000</td>\n",
       "      <td>18142.000000</td>\n",
       "      <td>18142.000000</td>\n",
       "      <td>18142.000000</td>\n",
       "    </tr>\n",
       "    <tr>\n",
       "      <th>mean</th>\n",
       "      <td>34.243027</td>\n",
       "      <td>10.042002</td>\n",
       "      <td>2.653121e+04</td>\n",
       "      <td>138.070279</td>\n",
       "      <td>31.398468</td>\n",
       "      <td>694.233686</td>\n",
       "      <td>396.729137</td>\n",
       "      <td>1.520119</td>\n",
       "      <td>5.149950</td>\n",
       "      <td>0.226207</td>\n",
       "      <td>...</td>\n",
       "      <td>0.004024</td>\n",
       "      <td>0.150590</td>\n",
       "      <td>0.029655</td>\n",
       "      <td>0.113053</td>\n",
       "      <td>0.054404</td>\n",
       "      <td>0.035663</td>\n",
       "      <td>0.322566</td>\n",
       "      <td>0.677434</td>\n",
       "      <td>0.170268</td>\n",
       "      <td>0.829732</td>\n",
       "    </tr>\n",
       "    <tr>\n",
       "      <th>std</th>\n",
       "      <td>539.161283</td>\n",
       "      <td>5.889806</td>\n",
       "      <td>7.583874e+05</td>\n",
       "      <td>633.787780</td>\n",
       "      <td>10.058827</td>\n",
       "      <td>783.802343</td>\n",
       "      <td>2544.711314</td>\n",
       "      <td>2.540474</td>\n",
       "      <td>20.351979</td>\n",
       "      <td>0.877530</td>\n",
       "      <td>...</td>\n",
       "      <td>0.063308</td>\n",
       "      <td>0.357658</td>\n",
       "      <td>0.169638</td>\n",
       "      <td>0.316666</td>\n",
       "      <td>0.226820</td>\n",
       "      <td>0.185454</td>\n",
       "      <td>0.467471</td>\n",
       "      <td>0.467471</td>\n",
       "      <td>0.375878</td>\n",
       "      <td>0.375878</td>\n",
       "    </tr>\n",
       "    <tr>\n",
       "      <th>min</th>\n",
       "      <td>0.000000</td>\n",
       "      <td>2.000000</td>\n",
       "      <td>1.000000e+02</td>\n",
       "      <td>1.000000</td>\n",
       "      <td>1.000000</td>\n",
       "      <td>0.000000</td>\n",
       "      <td>0.000000</td>\n",
       "      <td>1.000000</td>\n",
       "      <td>0.000000</td>\n",
       "      <td>0.000000</td>\n",
       "      <td>...</td>\n",
       "      <td>0.000000</td>\n",
       "      <td>0.000000</td>\n",
       "      <td>0.000000</td>\n",
       "      <td>0.000000</td>\n",
       "      <td>0.000000</td>\n",
       "      <td>0.000000</td>\n",
       "      <td>0.000000</td>\n",
       "      <td>0.000000</td>\n",
       "      <td>0.000000</td>\n",
       "      <td>0.000000</td>\n",
       "    </tr>\n",
       "    <tr>\n",
       "      <th>25%</th>\n",
       "      <td>0.000000</td>\n",
       "      <td>6.000000</td>\n",
       "      <td>2.000000e+03</td>\n",
       "      <td>7.000000</td>\n",
       "      <td>29.000000</td>\n",
       "      <td>216.250000</td>\n",
       "      <td>21.000000</td>\n",
       "      <td>1.000000</td>\n",
       "      <td>0.000000</td>\n",
       "      <td>0.000000</td>\n",
       "      <td>...</td>\n",
       "      <td>0.000000</td>\n",
       "      <td>0.000000</td>\n",
       "      <td>0.000000</td>\n",
       "      <td>0.000000</td>\n",
       "      <td>0.000000</td>\n",
       "      <td>0.000000</td>\n",
       "      <td>0.000000</td>\n",
       "      <td>0.000000</td>\n",
       "      <td>0.000000</td>\n",
       "      <td>1.000000</td>\n",
       "    </tr>\n",
       "    <tr>\n",
       "      <th>50%</th>\n",
       "      <td>0.000000</td>\n",
       "      <td>9.000000</td>\n",
       "      <td>5.000000e+03</td>\n",
       "      <td>29.000000</td>\n",
       "      <td>30.000000</td>\n",
       "      <td>453.000000</td>\n",
       "      <td>104.000000</td>\n",
       "      <td>1.000000</td>\n",
       "      <td>1.000000</td>\n",
       "      <td>0.000000</td>\n",
       "      <td>...</td>\n",
       "      <td>0.000000</td>\n",
       "      <td>0.000000</td>\n",
       "      <td>0.000000</td>\n",
       "      <td>0.000000</td>\n",
       "      <td>0.000000</td>\n",
       "      <td>0.000000</td>\n",
       "      <td>0.000000</td>\n",
       "      <td>1.000000</td>\n",
       "      <td>0.000000</td>\n",
       "      <td>1.000000</td>\n",
       "    </tr>\n",
       "    <tr>\n",
       "      <th>75%</th>\n",
       "      <td>3.000000</td>\n",
       "      <td>12.000000</td>\n",
       "      <td>1.500000e+04</td>\n",
       "      <td>89.000000</td>\n",
       "      <td>32.000000</td>\n",
       "      <td>860.000000</td>\n",
       "      <td>322.000000</td>\n",
       "      <td>1.000000</td>\n",
       "      <td>4.000000</td>\n",
       "      <td>0.000000</td>\n",
       "      <td>...</td>\n",
       "      <td>0.000000</td>\n",
       "      <td>0.000000</td>\n",
       "      <td>0.000000</td>\n",
       "      <td>0.000000</td>\n",
       "      <td>0.000000</td>\n",
       "      <td>0.000000</td>\n",
       "      <td>1.000000</td>\n",
       "      <td>1.000000</td>\n",
       "      <td>0.000000</td>\n",
       "      <td>1.000000</td>\n",
       "    </tr>\n",
       "    <tr>\n",
       "      <th>max</th>\n",
       "      <td>30341.000000</td>\n",
       "      <td>131.000000</td>\n",
       "      <td>1.000000e+08</td>\n",
       "      <td>35383.000000</td>\n",
       "      <td>60.000000</td>\n",
       "      <td>4885.000000</td>\n",
       "      <td>260505.000000</td>\n",
       "      <td>111.000000</td>\n",
       "      <td>1205.000000</td>\n",
       "      <td>24.000000</td>\n",
       "      <td>...</td>\n",
       "      <td>1.000000</td>\n",
       "      <td>1.000000</td>\n",
       "      <td>1.000000</td>\n",
       "      <td>1.000000</td>\n",
       "      <td>1.000000</td>\n",
       "      <td>1.000000</td>\n",
       "      <td>1.000000</td>\n",
       "      <td>1.000000</td>\n",
       "      <td>1.000000</td>\n",
       "      <td>1.000000</td>\n",
       "    </tr>\n",
       "  </tbody>\n",
       "</table>\n",
       "<p>8 rows × 41 columns</p>\n",
       "</div>"
      ],
      "text/plain": [
       "           Comments       Rewards          Goal       Backers  \\\n",
       "count  18142.000000  18142.000000  1.814200e+04  18142.000000   \n",
       "mean      34.243027     10.042002  2.653121e+04    138.070279   \n",
       "std      539.161283      5.889806  7.583874e+05    633.787780   \n",
       "min        0.000000      2.000000  1.000000e+02      1.000000   \n",
       "25%        0.000000      6.000000  2.000000e+03      7.000000   \n",
       "50%        0.000000      9.000000  5.000000e+03     29.000000   \n",
       "75%        3.000000     12.000000  1.500000e+04     89.000000   \n",
       "max    30341.000000    131.000000  1.000000e+08  35383.000000   \n",
       "\n",
       "       Duration in Days  Facebook Friends  Facebook Shares  \\\n",
       "count      18142.000000      12290.000000     18142.000000   \n",
       "mean          31.398468        694.233686       396.729137   \n",
       "std           10.058827        783.802343      2544.711314   \n",
       "min            1.000000          0.000000         0.000000   \n",
       "25%           29.000000        216.250000        21.000000   \n",
       "50%           30.000000        453.000000       104.000000   \n",
       "75%           32.000000        860.000000       322.000000   \n",
       "max           60.000000       4885.000000    260505.000000   \n",
       "\n",
       "       Creator - # Projects Created  Creator - # Projects Backed  \\\n",
       "count                  18142.000000                 13898.000000   \n",
       "mean                       1.520119                     5.149950   \n",
       "std                        2.540474                    20.351979   \n",
       "min                        1.000000                     0.000000   \n",
       "25%                        1.000000                     0.000000   \n",
       "50%                        1.000000                     1.000000   \n",
       "75%                        1.000000                     4.000000   \n",
       "max                      111.000000                  1205.000000   \n",
       "\n",
       "           # Videos  ...  Top Category_Journalism  Top Category_Music  \\\n",
       "count  18041.000000  ...             18142.000000        18142.000000   \n",
       "mean       0.226207  ...                 0.004024            0.150590   \n",
       "std        0.877530  ...                 0.063308            0.357658   \n",
       "min        0.000000  ...                 0.000000            0.000000   \n",
       "25%        0.000000  ...                 0.000000            0.000000   \n",
       "50%        0.000000  ...                 0.000000            0.000000   \n",
       "75%        0.000000  ...                 0.000000            0.000000   \n",
       "max       24.000000  ...                 1.000000            1.000000   \n",
       "\n",
       "       Top Category_Photography  Top Category_Publishing  \\\n",
       "count              18142.000000             18142.000000   \n",
       "mean                   0.029655                 0.113053   \n",
       "std                    0.169638                 0.316666   \n",
       "min                    0.000000                 0.000000   \n",
       "25%                    0.000000                 0.000000   \n",
       "50%                    0.000000                 0.000000   \n",
       "75%                    0.000000                 0.000000   \n",
       "max                    1.000000                 1.000000   \n",
       "\n",
       "       Top Category_Technology  Top Category_Theater  Facebook Connected_No  \\\n",
       "count             18142.000000          18142.000000           18142.000000   \n",
       "mean                  0.054404              0.035663               0.322566   \n",
       "std                   0.226820              0.185454               0.467471   \n",
       "min                   0.000000              0.000000               0.000000   \n",
       "25%                   0.000000              0.000000               0.000000   \n",
       "50%                   0.000000              0.000000               0.000000   \n",
       "75%                   0.000000              0.000000               1.000000   \n",
       "max                   1.000000              1.000000               1.000000   \n",
       "\n",
       "       Facebook Connected_Yes  Has Video_No  Has Video_Yes  \n",
       "count            18142.000000  18142.000000   18142.000000  \n",
       "mean                 0.677434      0.170268       0.829732  \n",
       "std                  0.467471      0.375878       0.375878  \n",
       "min                  0.000000      0.000000       0.000000  \n",
       "25%                  0.000000      0.000000       1.000000  \n",
       "50%                  1.000000      0.000000       1.000000  \n",
       "75%                  1.000000      0.000000       1.000000  \n",
       "max                  1.000000      1.000000       1.000000  \n",
       "\n",
       "[8 rows x 41 columns]"
      ]
     },
     "execution_count": 16,
     "metadata": {},
     "output_type": "execute_result"
    }
   ],
   "source": [
    "df.describe()"
   ]
  },
  {
   "cell_type": "code",
   "execution_count": 21,
   "metadata": {},
   "outputs": [
    {
     "name": "stderr",
     "output_type": "stream",
     "text": [
      "/Users/chetan/opt/anaconda3/lib/python3.8/site-packages/seaborn/distributions.py:2551: FutureWarning: `distplot` is a deprecated function and will be removed in a future version. Please adapt your code to use either `displot` (a figure-level function with similar flexibility) or `kdeplot` (an axes-level function for kernel density plots).\n",
      "  warnings.warn(msg, FutureWarning)\n"
     ]
    },
    {
     "data": {
      "text/plain": [
       "<AxesSubplot:xlabel='Facebook Friends', ylabel='Density'>"
      ]
     },
     "execution_count": 21,
     "metadata": {},
     "output_type": "execute_result"
    },
    {
     "data": {
      "image/png": "[encoded data removed]",
      "text/plain": [
       "<Figure size 864x432 with 1 Axes>"
      ]
     },
     "metadata": {
      "needs_background": "light"
     },
     "output_type": "display_data"
    }
   ],
   "source": [
    "#distribution plot of variable 'Facebook friends'\n",
    "plt.figure(figsize=(12,6))\n",
    "sns.distplot(df['Facebook Friends'],kde=True, hist=0)"
   ]
  },
  {
   "cell_type": "code",
   "execution_count": 24,
   "metadata": {},
   "outputs": [
    {
     "name": "stderr",
     "output_type": "stream",
     "text": [
      "/Users/chetan/opt/anaconda3/lib/python3.8/site-packages/seaborn/distributions.py:2551: FutureWarning: `distplot` is a deprecated function and will be removed in a future version. Please adapt your code to use either `displot` (a figure-level function with similar flexibility) or `kdeplot` (an axes-level function for kernel density plots).\n",
      "  warnings.warn(msg, FutureWarning)\n"
     ]
    },
    {
     "data": {
      "text/plain": [
       "<AxesSubplot:xlabel='Creator - # Projects Backed', ylabel='Density'>"
      ]
     },
     "execution_count": 24,
     "metadata": {},
     "output_type": "execute_result"
    },
    {
     "data": {
      "image/png": "[encoded data removed]",
      "text/plain": [
       "<Figure size 864x432 with 1 Axes>"
      ]
     },
     "metadata": {
      "needs_background": "light"
     },
     "output_type": "display_data"
    }
   ],
   "source": [
    "#distribution plot of variable 'Creator - #projects backed'\n",
    "plt.figure(figsize=(12,6))\n",
    "sns.distplot(df['Creator - # Projects Backed'],kde=True, hist=0)"
   ]
  },
  {
   "cell_type": "code",
   "execution_count": 25,
   "metadata": {},
   "outputs": [],
   "source": [
    "#fill missing values for 'Creator - # Projects Backed' with kmean value\n",
    "df['Creator - # Projects Backed'].fillna(df['Creator - # Projects Backed'].mean(), inplace=True)"
   ]
  },
  {
   "cell_type": "code",
   "execution_count": 27,
   "metadata": {},
   "outputs": [],
   "source": [
    "#drop remaining missing values for remaining variables\n",
    "df.dropna(axis=0, how='any',thresh=None, subset=None, inplace=True)"
   ]
  },
  {
   "cell_type": "code",
   "execution_count": 30,
   "metadata": {},
   "outputs": [
    {
     "data": {
      "text/plain": [
       "(12215, 41)"
      ]
     },
     "execution_count": 30,
     "metadata": {},
     "output_type": "execute_result"
    }
   ],
   "source": [
    "df.shape"
   ]
  },
  {
   "cell_type": "code",
   "execution_count": 32,
   "metadata": {},
   "outputs": [],
   "source": [
    "del df['State_failed']"
   ]
  },
  {
   "cell_type": "code",
   "execution_count": 33,
   "metadata": {},
   "outputs": [],
   "source": [
    "X = df.drop('State_successful',axis=1)\n",
    "y = df['State_successful']"
   ]
  },
  {
   "cell_type": "code",
   "execution_count": 34,
   "metadata": {},
   "outputs": [
    {
     "data": {
      "text/plain": [
       "(12215,)"
      ]
     },
     "execution_count": 34,
     "metadata": {},
     "output_type": "execute_result"
    }
   ],
   "source": [
    "y.shape"
   ]
  },
  {
   "cell_type": "code",
   "execution_count": 36,
   "metadata": {},
   "outputs": [
    {
     "data": {
      "text/plain": [
       "(12215, 39)"
      ]
     },
     "execution_count": 36,
     "metadata": {},
     "output_type": "execute_result"
    }
   ],
   "source": [
    "X.shape"
   ]
  },
  {
   "cell_type": "code",
   "execution_count": 37,
   "metadata": {},
   "outputs": [],
   "source": []
  },
  {
   "cell_type": "code",
   "execution_count": 48,
   "metadata": {},
   "outputs": [
    {
     "name": "stdout",
     "output_type": "stream",
     "text": [
      "[[1627  202]\n",
      " [ 230 1606]]\n",
      "              precision    recall  f1-score   support\n",
      "\n",
      "           0       0.88      0.89      0.88      1829\n",
      "           1       0.89      0.87      0.88      1836\n",
      "\n",
      "    accuracy                           0.88      3665\n",
      "   macro avg       0.88      0.88      0.88      3665\n",
      "weighted avg       0.88      0.88      0.88      3665\n",
      "\n"
     ]
    },
    {
     "data": {
      "text/plain": [
       "array([1], dtype=uint8)"
      ]
     },
     "execution_count": 48,
     "metadata": {},
     "output_type": "execute_result"
    }
   ],
   "source": [
    "X_train, X_test, y_train, y_test = train_test_split(X,y,test_size=0.3, random_state=10, shuffle=True)\n",
    "\n",
    "model = LogisticRegression(solver='lbfgs', max_iter=10000)\n",
    "model.fit(X_train, y_train)\n",
    "\n",
    "model_predict = model.predict(X_test)\n",
    "\n",
    "#confusion matrix \n",
    "print(confusion_matrix(y_test,model_predict))\n",
    "\n",
    "#classification report\n",
    "print(classification_report(y_test, model_predict))\n",
    "\n",
    "new_project = [ 0, #Comments\n",
    "9, #Rewards \n",
    "2500, #Goal\n",
    "157, #Backers\n",
    "31, #Duration in Days\n",
    "319, #Facebook Friends\n",
    "110, #Facebook Shares\n",
    "1, #Creator - # Projects Created\n",
    "0, #Creator - # Projects Backed \n",
    "0, ## Videos\n",
    "12, ## Images \n",
    "872, ## Words (Description) \n",
    "65, ## Words (Risks and Challenges) \n",
    "0, ## FAQs \n",
    "0, #Currency_AUD\n",
    "1, #Currency_CAD \n",
    "0, #Currency_EUR \n",
    "0, #Currency_GBP \n",
    "0, #Currency_NZD \n",
    "0, #Currency_USD\n",
    "0, #Top Category_Art \n",
    "0, #Top Category_Comics \n",
    "0, #Top Category_Crafts \n",
    "0, #Top Category_Dance \n",
    "0, #Top Category_Design \n",
    "0, #Top Category_Fashion\n",
    "1, #Top Category_Film & Video \n",
    "0, #Top Category_Food \n",
    "0, #Top Category_Games \n",
    "0, #Top Category_Journalism \n",
    "0, #Top Category_Music \n",
    "0, #Top Category_Photography \n",
    "0, #Top Category_Publishing \n",
    "0, #Top Category_Technology \n",
    "0, #Top Category_Theater \n",
    "0, #Facebook Connected_No \n",
    "0, #Facebook Connected_Yes \n",
    "0, #Has Video_No \n",
    "1, #Has Video_Yes\n",
    "]\n",
    "\n",
    "\n",
    "predict = model.predict([new_project])\n",
    "predict"
   ]
  },
  {
   "cell_type": "markdown",
   "metadata": {},
   "source": []
  }
 ],
 "metadata": {
  "kernelspec": {
   "display_name": "Python 3",
   "language": "python",
   "name": "python3"
  },
  "language_info": {
   "codemirror_mode": {
    "name": "ipython",
    "version": 3
   },
   "file_extension": ".py",
   "mimetype": "text/x-python",
   "name": "python",
   "nbconvert_exporter": "python",
   "pygments_lexer": "ipython3",
   "version": "3.8.5"
  }
 },
 "nbformat": 4,
 "nbformat_minor": 4
}
